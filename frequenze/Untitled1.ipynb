{
 "cells": [
  {
   "cell_type": "code",
   "execution_count": 1,
   "metadata": {},
   "outputs": [],
   "source": [
    "import numpy as np\n",
    "import matplotlib.pyplot as plt  # To visualize\n",
    "import pandas as pd  # To read data\n",
    "import matplotlib.dates as mdates\n",
    "import matplotlib.ticker as mtick"
   ]
  },
  {
   "cell_type": "code",
   "execution_count": 3,
   "metadata": {},
   "outputs": [
    {
     "data": {
      "text/html": [
       "<div>\n",
       "<style scoped>\n",
       "    .dataframe tbody tr th:only-of-type {\n",
       "        vertical-align: middle;\n",
       "    }\n",
       "\n",
       "    .dataframe tbody tr th {\n",
       "        vertical-align: top;\n",
       "    }\n",
       "\n",
       "    .dataframe thead th {\n",
       "        text-align: right;\n",
       "    }\n",
       "</style>\n",
       "<table border=\"1\" class=\"dataframe\">\n",
       "  <thead>\n",
       "    <tr style=\"text-align: right;\">\n",
       "      <th></th>\n",
       "      <th>k</th>\n",
       "      <th>contatore</th>\n",
       "      <th>eventID[0]</th>\n",
       "      <th>eventID[1]</th>\n",
       "      <th>run</th>\n",
       "      <th>factor</th>\n",
       "    </tr>\n",
       "  </thead>\n",
       "  <tbody>\n",
       "    <tr>\n",
       "      <th>0</th>\n",
       "      <td>0</td>\n",
       "      <td>311</td>\n",
       "      <td>7</td>\n",
       "      <td>0</td>\n",
       "      <td>130</td>\n",
       "      <td>2</td>\n",
       "    </tr>\n",
       "    <tr>\n",
       "      <th>1</th>\n",
       "      <td>1</td>\n",
       "      <td>311</td>\n",
       "      <td>7</td>\n",
       "      <td>0</td>\n",
       "      <td>130</td>\n",
       "      <td>2</td>\n",
       "    </tr>\n",
       "    <tr>\n",
       "      <th>2</th>\n",
       "      <td>0</td>\n",
       "      <td>362</td>\n",
       "      <td>4</td>\n",
       "      <td>0</td>\n",
       "      <td>124</td>\n",
       "      <td>2</td>\n",
       "    </tr>\n",
       "    <tr>\n",
       "      <th>3</th>\n",
       "      <td>1</td>\n",
       "      <td>362</td>\n",
       "      <td>4</td>\n",
       "      <td>0</td>\n",
       "      <td>124</td>\n",
       "      <td>2</td>\n",
       "    </tr>\n",
       "    <tr>\n",
       "      <th>4</th>\n",
       "      <td>1</td>\n",
       "      <td>476</td>\n",
       "      <td>4</td>\n",
       "      <td>0</td>\n",
       "      <td>2</td>\n",
       "      <td>3</td>\n",
       "    </tr>\n",
       "    <tr>\n",
       "      <th>...</th>\n",
       "      <td>...</td>\n",
       "      <td>...</td>\n",
       "      <td>...</td>\n",
       "      <td>...</td>\n",
       "      <td>...</td>\n",
       "      <td>...</td>\n",
       "    </tr>\n",
       "    <tr>\n",
       "      <th>569</th>\n",
       "      <td>1</td>\n",
       "      <td>8781</td>\n",
       "      <td>3</td>\n",
       "      <td>0</td>\n",
       "      <td>93</td>\n",
       "      <td>4</td>\n",
       "    </tr>\n",
       "    <tr>\n",
       "      <th>570</th>\n",
       "      <td>0</td>\n",
       "      <td>8795</td>\n",
       "      <td>3</td>\n",
       "      <td>0</td>\n",
       "      <td>377</td>\n",
       "      <td>5</td>\n",
       "    </tr>\n",
       "    <tr>\n",
       "      <th>571</th>\n",
       "      <td>1</td>\n",
       "      <td>8795</td>\n",
       "      <td>3</td>\n",
       "      <td>0</td>\n",
       "      <td>377</td>\n",
       "      <td>5</td>\n",
       "    </tr>\n",
       "    <tr>\n",
       "      <th>572</th>\n",
       "      <td>0</td>\n",
       "      <td>8823</td>\n",
       "      <td>2</td>\n",
       "      <td>0</td>\n",
       "      <td>249</td>\n",
       "      <td>4</td>\n",
       "    </tr>\n",
       "    <tr>\n",
       "      <th>573</th>\n",
       "      <td>1</td>\n",
       "      <td>8823</td>\n",
       "      <td>2</td>\n",
       "      <td>0</td>\n",
       "      <td>249</td>\n",
       "      <td>4</td>\n",
       "    </tr>\n",
       "  </tbody>\n",
       "</table>\n",
       "<p>574 rows × 6 columns</p>\n",
       "</div>"
      ],
      "text/plain": [
       "     k  contatore  eventID[0]  eventID[1]  run  factor\n",
       "0    0        311           7           0  130       2\n",
       "1    1        311           7           0  130       2\n",
       "2    0        362           4           0  124       2\n",
       "3    1        362           4           0  124       2\n",
       "4    1        476           4           0    2       3\n",
       "..  ..        ...         ...         ...  ...     ...\n",
       "569  1       8781           3           0   93       4\n",
       "570  0       8795           3           0  377       5\n",
       "571  1       8795           3           0  377       5\n",
       "572  0       8823           2           0  249       4\n",
       "573  1       8823           2           0  249       4\n",
       "\n",
       "[574 rows x 6 columns]"
      ]
     },
     "execution_count": 3,
     "metadata": {},
     "output_type": "execute_result"
    }
   ],
   "source": [
    "eventi = pd.read_csv('eventiAPR4_q09.csv')\n",
    "eventi"
   ]
  },
  {
   "cell_type": "code",
   "execution_count": 7,
   "metadata": {
    "scrolled": false
   },
   "outputs": [
    {
     "data": {
      "text/plain": [
       "(array([12.,  4.,  0.,  0.,  4.,  8., 20., 16.,  0.,  8.,  0.,  0.,  4.,\n",
       "         8.,  4.,  6.,  0.,  0.,  0.,  6., 12.,  4.,  2., 14.,  0., 10.,\n",
       "         6.,  4.,  4., 18.,  8.,  0.,  4.,  4., 14.,  4., 10.,  0.,  0.,\n",
       "         0.,  6.,  4., 16.,  6.,  0., 10.,  6.,  0.,  0.,  4.,  0.,  8.,\n",
       "         0.,  4., 14.,  0.,  6.,  0.,  0., 10.,  4.,  4., 20., 22., 20.,\n",
       "         0., 16.,  4., 12.,  8.,  2.,  6.,  6.,  2.,  4.,  4.,  4.,  8.,\n",
       "         4., 10.,  0., 16.,  0.,  8.,  0., 12.,  0.,  2.,  8.,  4.,  8.,\n",
       "         6.,  0.,  0.,  4.,  0.,  8., 18.,  0.,  8.]),\n",
       " array([  2.  ,   5.98,   9.96,  13.94,  17.92,  21.9 ,  25.88,  29.86,\n",
       "         33.84,  37.82,  41.8 ,  45.78,  49.76,  53.74,  57.72,  61.7 ,\n",
       "         65.68,  69.66,  73.64,  77.62,  81.6 ,  85.58,  89.56,  93.54,\n",
       "         97.52, 101.5 , 105.48, 109.46, 113.44, 117.42, 121.4 , 125.38,\n",
       "        129.36, 133.34, 137.32, 141.3 , 145.28, 149.26, 153.24, 157.22,\n",
       "        161.2 , 165.18, 169.16, 173.14, 177.12, 181.1 , 185.08, 189.06,\n",
       "        193.04, 197.02, 201.  , 204.98, 208.96, 212.94, 216.92, 220.9 ,\n",
       "        224.88, 228.86, 232.84, 236.82, 240.8 , 244.78, 248.76, 252.74,\n",
       "        256.72, 260.7 , 264.68, 268.66, 272.64, 276.62, 280.6 , 284.58,\n",
       "        288.56, 292.54, 296.52, 300.5 , 304.48, 308.46, 312.44, 316.42,\n",
       "        320.4 , 324.38, 328.36, 332.34, 336.32, 340.3 , 344.28, 348.26,\n",
       "        352.24, 356.22, 360.2 , 364.18, 368.16, 372.14, 376.12, 380.1 ,\n",
       "        384.08, 388.06, 392.04, 396.02, 400.  ]),\n",
       " <BarContainer object of 100 artists>)"
      ]
     },
     "execution_count": 7,
     "metadata": {},
     "output_type": "execute_result"
    },
    {
     "data": {
      "image/png": "[encoded data removed]",
      "text/plain": [
       "<Figure size 432x288 with 1 Axes>"
      ]
     },
     "metadata": {
      "needs_background": "light"
     },
     "output_type": "display_data"
    }
   ],
   "source": [
    "plt.hist(eventi['run'], \n",
    "         bins = 100)"
   ]
  },
  {
   "cell_type": "code",
   "execution_count": null,
   "metadata": {},
   "outputs": [],
   "source": []
  }
 ],
 "metadata": {
  "kernelspec": {
   "display_name": "Python 3",
   "language": "python",
   "name": "python3"
  },
  "language_info": {
   "codemirror_mode": {
    "name": "ipython",
    "version": 3
   },
   "file_extension": ".py",
   "mimetype": "text/x-python",
   "name": "python",
   "nbconvert_exporter": "python",
   "pygments_lexer": "ipython3",
   "version": "3.8.5"
  }
 },
 "nbformat": 4,
 "nbformat_minor": 4
}
